{
 "cells": [
  {
   "cell_type": "code",
   "execution_count": null,
   "metadata": {},
   "outputs": [],
   "source": [
    "#@markdown ### Mount Google Drive to save your output and access the training image.\n",
    "#@markdown Leave empty if you're not using a shared drive.\n",
    "\n",
    "from google.colab import drive\n",
    "drive.mount('/content/drive')"
   ]
  },
  {
   "cell_type": "code",
   "execution_count": null,
   "metadata": {},
   "outputs": [],
   "source": [
    "#@markdown ### Clone the B-LoRA repository\n",
    "!git clone https://github.com/itsitgroup/B-LoRA.git\n",
    "\n",
    "# Change directory to the cloned repository.\n",
    "%cd B-LoRA"
   ]
  },
  {
   "cell_type": "code",
   "execution_count": null,
   "metadata": {},
   "outputs": [],
   "source": [
    "#@markdown ### Install the required libraries from requirements.txt\n",
    "!pip install -r requirements.txt"
   ]
  },
  {
   "cell_type": "code",
   "execution_count": null,
   "metadata": {},
   "outputs": [],
   "source": [
    "#@markdown ### Upload the Training Image\n",
    "\n",
    "import os\n",
    "from google.colab import files\n",
    "\n",
    "# Function to upload the training image and get its path.\n",
    "def get_image_path():\n",
    "    uploaded = files.upload()\n",
    "    if uploaded:\n",
    "        return list(uploaded.keys())[0]\n",
    "    else:\n",
    "        raise Exception(\"Please upload a training image.\")\n",
    "\n",
    "# Get the path to the training image from the user.\n",
    "image_path = get_image_path()"
   ]
  },
  {
   "cell_type": "code",
   "execution_count": null,
   "metadata": {},
   "outputs": [],
   "source": [
    "#@markdown ### Specify the Output Path\n",
    "#@markdown Enter the path to save the output (leave blank to use default `/content/B-LoRA_output`)\n",
    "\n",
    "#@param {type:\"string\"}\n",
    "output_path = \"\" #@param {type:\"string\"}\n",
    "\n",
    "# Create a directory for the output if the user doesn't specify one.\n",
    "default_output_path = \"/content/B-LoRA_output\"\n",
    "os.makedirs(default_output_path, exist_ok=True)\n",
    "\n",
    "if output_path.strip() == \"\":\n",
    "    output_path = default_output_path\n",
    "\n",
    "# Display the paths for confirmation.\n",
    "print(f\"Training image path: {image_path}\")\n",
    "print(f\"Output path: {output_path}\")"
   ]
  },
  {
   "cell_type": "code",
   "execution_count": null,
   "metadata": {},
   "outputs": [],
   "source": [
    "#@markdown ### Specify Training Parameters\n",
    "#@markdown Leave blank to use default values.\n",
    "\n",
    "#@param {type:\"string\"}\n",
    "steps = \"\" #@param {type:\"string\"}\n",
    "\n",
    "#@param {type:\"string\"}\n",
    "learning_rate = \"\" #@param {type:\"string\"}"
   ]
  },
  {
   "cell_type": "code",
   "execution_count": null,
   "metadata": {},
   "outputs": [],
   "source": [
    "#@markdown ### Run the Training Script\n",
    "\n",
    "# Construct the command to run the training script.\n",
    "command = f\"python train_dreambooth_b-lora_sdxl.py --image_path {image_path} --output_dir {output_path}\"\n",
    "\n",
    "if steps.strip():\n",
    "    command += f\" --steps {steps}\"\n",
    "if learning_rate.strip():\n",
    "    command += f\" --lr {learning_rate}\"\n",
    "\n",
    "# Execute the command.\n",
    "!{command}"
   ]
  }
 ],
 "metadata": {
  "language_info": {
   "name": "python"
  }
 },
 "nbformat": 4,
 "nbformat_minor": 2
}
